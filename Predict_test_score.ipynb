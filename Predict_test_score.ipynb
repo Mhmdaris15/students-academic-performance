{
  "nbformat": 4,
  "nbformat_minor": 0,
  "metadata": {
    "colab": {
      "name": "Predict_test_score",
      "provenance": [],
      "collapsed_sections": [],
      "authorship_tag": "ABX9TyMChDC6NirToM2JPcUZ+5Hj",
      "include_colab_link": true
    },
    "kernelspec": {
      "name": "python3",
      "display_name": "Python 3"
    },
    "language_info": {
      "name": "python"
    }
  },
  "cells": [
    {
      "cell_type": "markdown",
      "metadata": {
        "id": "view-in-github",
        "colab_type": "text"
      },
      "source": [
        "<a href=\"https://colab.research.google.com/github/Mhmdaris15/test-score-prediction/blob/main/Predict_test_score.ipynb\" target=\"_parent\"><img src=\"https://colab.research.google.com/assets/colab-badge.svg\" alt=\"Open In Colab\"/></a>"
      ]
    },
    {
      "cell_type": "code",
      "metadata": {
        "id": "8PX-TmtDSt3i"
      },
      "source": [
        "import pandas as pd\n",
        "import numpy as np\n",
        "import matplotlib.pyplot as plt\n",
        "import seaborn as sns\n",
        "from google.colab import files"
      ],
      "execution_count": null,
      "outputs": []
    },
    {
      "cell_type": "code",
      "metadata": {
        "id": "e2Ux2kE0S_Mr"
      },
      "source": [
        "df = pd.read_csv('test_scores.csv')"
      ],
      "execution_count": null,
      "outputs": []
    },
    {
      "cell_type": "code",
      "metadata": {
        "colab": {
          "base_uri": "https://localhost:8080/",
          "height": 394
        },
        "id": "AwIbPKtkUGj7",
        "outputId": "8711c789-bbe2-4347-d851-6645a5af003c"
      },
      "source": [
        "df.head()"
      ],
      "execution_count": null,
      "outputs": [
        {
          "output_type": "execute_result",
          "data": {
            "text/html": [
              "<div>\n",
              "<style scoped>\n",
              "    .dataframe tbody tr th:only-of-type {\n",
              "        vertical-align: middle;\n",
              "    }\n",
              "\n",
              "    .dataframe tbody tr th {\n",
              "        vertical-align: top;\n",
              "    }\n",
              "\n",
              "    .dataframe thead th {\n",
              "        text-align: right;\n",
              "    }\n",
              "</style>\n",
              "<table border=\"1\" class=\"dataframe\">\n",
              "  <thead>\n",
              "    <tr style=\"text-align: right;\">\n",
              "      <th></th>\n",
              "      <th>school</th>\n",
              "      <th>school_setting</th>\n",
              "      <th>school_type</th>\n",
              "      <th>classroom</th>\n",
              "      <th>teaching_method</th>\n",
              "      <th>n_student</th>\n",
              "      <th>student_id</th>\n",
              "      <th>gender</th>\n",
              "      <th>lunch</th>\n",
              "      <th>pretest</th>\n",
              "      <th>posttest</th>\n",
              "    </tr>\n",
              "  </thead>\n",
              "  <tbody>\n",
              "    <tr>\n",
              "      <th>0</th>\n",
              "      <td>ANKYI</td>\n",
              "      <td>Urban</td>\n",
              "      <td>Non-public</td>\n",
              "      <td>6OL</td>\n",
              "      <td>Standard</td>\n",
              "      <td>20.0</td>\n",
              "      <td>2FHT3</td>\n",
              "      <td>Female</td>\n",
              "      <td>Does not qualify</td>\n",
              "      <td>62.0</td>\n",
              "      <td>72.0</td>\n",
              "    </tr>\n",
              "    <tr>\n",
              "      <th>1</th>\n",
              "      <td>ANKYI</td>\n",
              "      <td>Urban</td>\n",
              "      <td>Non-public</td>\n",
              "      <td>6OL</td>\n",
              "      <td>Standard</td>\n",
              "      <td>20.0</td>\n",
              "      <td>3JIVH</td>\n",
              "      <td>Female</td>\n",
              "      <td>Does not qualify</td>\n",
              "      <td>66.0</td>\n",
              "      <td>79.0</td>\n",
              "    </tr>\n",
              "    <tr>\n",
              "      <th>2</th>\n",
              "      <td>ANKYI</td>\n",
              "      <td>Urban</td>\n",
              "      <td>Non-public</td>\n",
              "      <td>6OL</td>\n",
              "      <td>Standard</td>\n",
              "      <td>20.0</td>\n",
              "      <td>3XOWE</td>\n",
              "      <td>Male</td>\n",
              "      <td>Does not qualify</td>\n",
              "      <td>64.0</td>\n",
              "      <td>76.0</td>\n",
              "    </tr>\n",
              "    <tr>\n",
              "      <th>3</th>\n",
              "      <td>ANKYI</td>\n",
              "      <td>Urban</td>\n",
              "      <td>Non-public</td>\n",
              "      <td>6OL</td>\n",
              "      <td>Standard</td>\n",
              "      <td>20.0</td>\n",
              "      <td>556O0</td>\n",
              "      <td>Female</td>\n",
              "      <td>Does not qualify</td>\n",
              "      <td>61.0</td>\n",
              "      <td>77.0</td>\n",
              "    </tr>\n",
              "    <tr>\n",
              "      <th>4</th>\n",
              "      <td>ANKYI</td>\n",
              "      <td>Urban</td>\n",
              "      <td>Non-public</td>\n",
              "      <td>6OL</td>\n",
              "      <td>Standard</td>\n",
              "      <td>20.0</td>\n",
              "      <td>74LOE</td>\n",
              "      <td>Male</td>\n",
              "      <td>Does not qualify</td>\n",
              "      <td>64.0</td>\n",
              "      <td>76.0</td>\n",
              "    </tr>\n",
              "  </tbody>\n",
              "</table>\n",
              "</div>"
            ],
            "text/plain": [
              "  school school_setting school_type  ...             lunch pretest  posttest\n",
              "0  ANKYI          Urban  Non-public  ...  Does not qualify    62.0      72.0\n",
              "1  ANKYI          Urban  Non-public  ...  Does not qualify    66.0      79.0\n",
              "2  ANKYI          Urban  Non-public  ...  Does not qualify    64.0      76.0\n",
              "3  ANKYI          Urban  Non-public  ...  Does not qualify    61.0      77.0\n",
              "4  ANKYI          Urban  Non-public  ...  Does not qualify    64.0      76.0\n",
              "\n",
              "[5 rows x 11 columns]"
            ]
          },
          "metadata": {
            "tags": []
          },
          "execution_count": 26
        }
      ]
    },
    {
      "cell_type": "code",
      "metadata": {
        "colab": {
          "base_uri": "https://localhost:8080/"
        },
        "id": "dAuOcBrZuIew",
        "outputId": "b7f6e991-b01b-4798-f04c-34715aa58417"
      },
      "source": [
        "for i in df.columns:\n",
        "  print(i)\n",
        "  print(df[i].unique())\n",
        "features = ['school', 'school_setting', 'school_type', 'teaching_method', 'n_student', 'gender', 'lunch', 'pretest']"
      ],
      "execution_count": null,
      "outputs": [
        {
          "output_type": "stream",
          "text": [
            "school\n",
            "['ANKYI' 'CCAAW' 'CIMBB' 'CUQAM' 'DNQDD' 'FBUMG' 'GJJHK' 'GOKXL' 'GOOBU'\n",
            " 'IDGFP' 'KFZMY' 'KZKKE' 'LAYPA' 'OJOBU' 'QOQTS' 'UAGPU' 'UKPGS' 'UUUQX'\n",
            " 'VHDHF' 'VKWQH' 'VVTVA' 'ZMNYA' 'ZOWMK']\n",
            "school_setting\n",
            "['Urban' 'Suburban' 'Rural']\n",
            "school_type\n",
            "['Non-public' 'Public']\n",
            "classroom\n",
            "['6OL' 'ZNS' '2B1' 'EPS' 'IQN' 'PGK' 'UHU' 'UWK' 'A33' 'EID' 'HUJ' 'PC6'\n",
            " '1Q1' 'BFY' 'OMI' 'X6Z' '2AP' 'PW5' 'ROP' 'ST7' 'XXJ' '197' '5LQ' 'JGD'\n",
            " 'HCB' 'NOR' 'X78' 'YUC' 'ZDT' 'ENO' 'TSA' 'VA6' '18K' 'CXC' 'HKF' 'PBA'\n",
            " 'U6J' 'W8A' '05H' '98D' 'G2L' 'P2A' 'XZM' '1VD' '21Q' '2BR' '3D0' '5JK'\n",
            " 'O6A' 'QTU' 'AJ1' 'J8J' 'RA5' '5SZ' '6U9' 'FS3' 'XJ8' '0N7' '3XJ' 'RK7'\n",
            " 'SUR' 'X2O' 'XZ4' '1SZ' '62L' 'NWZ' 'S98' '08N' '9AW' 'IPU' 'KXB' 'PGH'\n",
            " 'XXE' '6C1' 'AE1' 'H7S' 'P8I' 'SSP' 'CD8' 'J6X' 'KR1' '341' 'D33' 'DFQ'\n",
            " 'GYM' 'IEM' '7BL' 'A93' 'TB5' 'YTB' '1UU' '4NN' 'V77' 'CII' 'Q0E' 'QA2'\n",
            " 'ZBH']\n",
            "teaching_method\n",
            "['Standard' 'Experimental']\n",
            "n_student\n",
            "[20. 21. 18. 15. 16. 19. 17. 28. 27. 24. 14. 22. 23. 31. 25. 26. 29. 30.]\n",
            "student_id\n",
            "['2FHT3' '3JIVH' '3XOWE' ... 'YDR1Z' 'YUEIH' 'ZVCQ8']\n",
            "gender\n",
            "['Female' 'Male']\n",
            "lunch\n",
            "['Does not qualify' 'Qualifies for reduced/free lunch']\n",
            "pretest\n",
            "[62. 66. 64. 61. 63. 60. 67. 57. 56. 58. 54. 59. 65. 55. 68. 73. 70. 74.\n",
            " 76. 69. 75. 78. 72. 71. 49. 53. 48. 52. 50. 46. 44. 51. 47. 43. 37. 40.\n",
            " 39. 41. 38. 45. 36. 42. 31. 35. 33. 27. 30. 34. 32. 29. 28. 23. 26. 77.\n",
            " 79. 82. 80. 85. 83. 84. 86. 89. 93. 88. 81. 87. 91. 22. 25.]\n",
            "posttest\n",
            "[ 72.  79.  76.  77.  74.  75.  73.  78.  71.  70.  68.  66.  65.  67.\n",
            "  63.  69.  82.  87.  80.  83.  81.  84.  85.  91.  86.  64.  88.  61.\n",
            "  62.  58.  57.  59.  56.  60.  55.  54.  49.  53.  52.  50.  51.  48.\n",
            "  39.  43.  45.  47.  42.  44.  46.  41.  36.  40.  32.  38.  35.  34.\n",
            "  93.  90.  92.  97.  95.  99.  89.  94.  96.  98. 100.  37.]\n"
          ],
          "name": "stdout"
        }
      ]
    },
    {
      "cell_type": "code",
      "metadata": {
        "colab": {
          "base_uri": "https://localhost:8080/"
        },
        "id": "JjNw44z3UM1d",
        "outputId": "6843988f-6d1c-4859-83ee-961cfb4499ee"
      },
      "source": [
        "for col in df.columns:\n",
        "  print(df[col].value_counts())"
      ],
      "execution_count": null,
      "outputs": [
        {
          "output_type": "stream",
          "text": [
            "GOOBU    158\n",
            "QOQTS    149\n",
            "UKPGS    128\n",
            "DNQDD    122\n",
            "GJJHK    118\n",
            "ZOWMK    117\n",
            "VVTVA    114\n",
            "KZKKE    111\n",
            "CCAAW    109\n",
            "CUQAM    107\n",
            "VKWQH    100\n",
            "IDGFP     94\n",
            "UAGPU     87\n",
            "UUUQX     84\n",
            "OJOBU     81\n",
            "CIMBB     74\n",
            "ZMNYA     69\n",
            "GOKXL     64\n",
            "LAYPA     57\n",
            "KFZMY     52\n",
            "VHDHF     51\n",
            "FBUMG     46\n",
            "ANKYI     41\n",
            "Name: school, dtype: int64\n",
            "Urban       906\n",
            "Suburban    717\n",
            "Rural       510\n",
            "Name: school_setting, dtype: int64\n",
            "Public        1582\n",
            "Non-public     551\n",
            "Name: school_type, dtype: int64\n",
            "18K    31\n",
            "QA2    30\n",
            "Q0E    30\n",
            "A93    30\n",
            "YTB    30\n",
            "       ..\n",
            "IQN    15\n",
            "SSP    15\n",
            "KR1    15\n",
            "JGD    14\n",
            "197    14\n",
            "Name: classroom, Length: 97, dtype: int64\n",
            "Standard        1373\n",
            "Experimental     760\n",
            "Name: teaching_method, dtype: int64\n",
            "22.0    264\n",
            "21.0    231\n",
            "27.0    189\n",
            "28.0    168\n",
            "20.0    160\n",
            "30.0    150\n",
            "24.0    144\n",
            "23.0    138\n",
            "17.0    136\n",
            "19.0    133\n",
            "25.0    125\n",
            "18.0     72\n",
            "16.0     64\n",
            "15.0     45\n",
            "31.0     31\n",
            "29.0     29\n",
            "14.0     28\n",
            "26.0     26\n",
            "Name: n_student, dtype: int64\n",
            "Y5XWB    1\n",
            "QOXPF    1\n",
            "GXAG3    1\n",
            "GC32I    1\n",
            "RUJQB    1\n",
            "        ..\n",
            "ZH0UC    1\n",
            "E6EPH    1\n",
            "T03G6    1\n",
            "1SDXS    1\n",
            "5WRPI    1\n",
            "Name: student_id, Length: 2133, dtype: int64\n",
            "Male      1077\n",
            "Female    1056\n",
            "Name: gender, dtype: int64\n",
            "Does not qualify                    1215\n",
            "Qualifies for reduced/free lunch     918\n",
            "Name: lunch, dtype: int64\n",
            "60.0    73\n",
            "63.0    64\n",
            "58.0    63\n",
            "59.0    61\n",
            "62.0    60\n",
            "        ..\n",
            "91.0     1\n",
            "93.0     1\n",
            "88.0     1\n",
            "23.0     1\n",
            "25.0     1\n",
            "Name: pretest, Length: 69, dtype: int64\n",
            "69.0    65\n",
            "70.0    62\n",
            "72.0    60\n",
            "68.0    58\n",
            "74.0    57\n",
            "        ..\n",
            "99.0     3\n",
            "36.0     2\n",
            "32.0     1\n",
            "34.0     1\n",
            "35.0     1\n",
            "Name: posttest, Length: 68, dtype: int64\n"
          ],
          "name": "stdout"
        }
      ]
    },
    {
      "cell_type": "code",
      "metadata": {
        "id": "Vl2Ev35ZVrcx",
        "colab": {
          "base_uri": "https://localhost:8080/"
        },
        "outputId": "45d683af-0db3-4140-efb4-118d9143d779"
      },
      "source": [
        "df.info()"
      ],
      "execution_count": null,
      "outputs": [
        {
          "output_type": "stream",
          "text": [
            "<class 'pandas.core.frame.DataFrame'>\n",
            "RangeIndex: 2133 entries, 0 to 2132\n",
            "Data columns (total 11 columns):\n",
            " #   Column           Non-Null Count  Dtype  \n",
            "---  ------           --------------  -----  \n",
            " 0   school           2133 non-null   object \n",
            " 1   school_setting   2133 non-null   object \n",
            " 2   school_type      2133 non-null   object \n",
            " 3   classroom        2133 non-null   object \n",
            " 4   teaching_method  2133 non-null   object \n",
            " 5   n_student        2133 non-null   float64\n",
            " 6   student_id       2133 non-null   object \n",
            " 7   gender           2133 non-null   object \n",
            " 8   lunch            2133 non-null   object \n",
            " 9   pretest          2133 non-null   float64\n",
            " 10  posttest         2133 non-null   float64\n",
            "dtypes: float64(3), object(8)\n",
            "memory usage: 183.4+ KB\n"
          ],
          "name": "stdout"
        }
      ]
    },
    {
      "cell_type": "code",
      "metadata": {
        "id": "EQ1QKEJrVsdt",
        "colab": {
          "base_uri": "https://localhost:8080/"
        },
        "outputId": "f37ca25d-0745-45c9-9fea-5bc4eb0697c8"
      },
      "source": [
        "print('apakah ada NaN Value?')\n",
        "df.isna().any().any()"
      ],
      "execution_count": null,
      "outputs": [
        {
          "output_type": "stream",
          "text": [
            "apakah ada NaN Value?\n"
          ],
          "name": "stdout"
        },
        {
          "output_type": "execute_result",
          "data": {
            "text/plain": [
              "False"
            ]
          },
          "metadata": {
            "tags": []
          },
          "execution_count": 30
        }
      ]
    },
    {
      "cell_type": "code",
      "metadata": {
        "colab": {
          "base_uri": "https://localhost:8080/",
          "height": 142
        },
        "id": "aQP4HjnUq3iH",
        "outputId": "a48cd231-f36b-446b-d825-ca9fad07e1f2"
      },
      "source": [
        "df.corr()"
      ],
      "execution_count": null,
      "outputs": [
        {
          "output_type": "execute_result",
          "data": {
            "text/html": [
              "<div>\n",
              "<style scoped>\n",
              "    .dataframe tbody tr th:only-of-type {\n",
              "        vertical-align: middle;\n",
              "    }\n",
              "\n",
              "    .dataframe tbody tr th {\n",
              "        vertical-align: top;\n",
              "    }\n",
              "\n",
              "    .dataframe thead th {\n",
              "        text-align: right;\n",
              "    }\n",
              "</style>\n",
              "<table border=\"1\" class=\"dataframe\">\n",
              "  <thead>\n",
              "    <tr style=\"text-align: right;\">\n",
              "      <th></th>\n",
              "      <th>n_student</th>\n",
              "      <th>pretest</th>\n",
              "      <th>posttest</th>\n",
              "    </tr>\n",
              "  </thead>\n",
              "  <tbody>\n",
              "    <tr>\n",
              "      <th>n_student</th>\n",
              "      <td>1.000000</td>\n",
              "      <td>-0.499253</td>\n",
              "      <td>-0.504886</td>\n",
              "    </tr>\n",
              "    <tr>\n",
              "      <th>pretest</th>\n",
              "      <td>-0.499253</td>\n",
              "      <td>1.000000</td>\n",
              "      <td>0.950884</td>\n",
              "    </tr>\n",
              "    <tr>\n",
              "      <th>posttest</th>\n",
              "      <td>-0.504886</td>\n",
              "      <td>0.950884</td>\n",
              "      <td>1.000000</td>\n",
              "    </tr>\n",
              "  </tbody>\n",
              "</table>\n",
              "</div>"
            ],
            "text/plain": [
              "           n_student   pretest  posttest\n",
              "n_student   1.000000 -0.499253 -0.504886\n",
              "pretest    -0.499253  1.000000  0.950884\n",
              "posttest   -0.504886  0.950884  1.000000"
            ]
          },
          "metadata": {
            "tags": []
          },
          "execution_count": 31
        }
      ]
    },
    {
      "cell_type": "code",
      "metadata": {
        "colab": {
          "base_uri": "https://localhost:8080/",
          "height": 297
        },
        "id": "7fAU7xw6rLLW",
        "outputId": "75bfa3f8-b6ac-4c53-c660-77acacbb116f"
      },
      "source": [
        "df.describe()"
      ],
      "execution_count": null,
      "outputs": [
        {
          "output_type": "execute_result",
          "data": {
            "text/html": [
              "<div>\n",
              "<style scoped>\n",
              "    .dataframe tbody tr th:only-of-type {\n",
              "        vertical-align: middle;\n",
              "    }\n",
              "\n",
              "    .dataframe tbody tr th {\n",
              "        vertical-align: top;\n",
              "    }\n",
              "\n",
              "    .dataframe thead th {\n",
              "        text-align: right;\n",
              "    }\n",
              "</style>\n",
              "<table border=\"1\" class=\"dataframe\">\n",
              "  <thead>\n",
              "    <tr style=\"text-align: right;\">\n",
              "      <th></th>\n",
              "      <th>n_student</th>\n",
              "      <th>pretest</th>\n",
              "      <th>posttest</th>\n",
              "    </tr>\n",
              "  </thead>\n",
              "  <tbody>\n",
              "    <tr>\n",
              "      <th>count</th>\n",
              "      <td>2133.000000</td>\n",
              "      <td>2133.000000</td>\n",
              "      <td>2133.000000</td>\n",
              "    </tr>\n",
              "    <tr>\n",
              "      <th>mean</th>\n",
              "      <td>22.796531</td>\n",
              "      <td>54.955931</td>\n",
              "      <td>67.102203</td>\n",
              "    </tr>\n",
              "    <tr>\n",
              "      <th>std</th>\n",
              "      <td>4.228893</td>\n",
              "      <td>13.563101</td>\n",
              "      <td>13.986789</td>\n",
              "    </tr>\n",
              "    <tr>\n",
              "      <th>min</th>\n",
              "      <td>14.000000</td>\n",
              "      <td>22.000000</td>\n",
              "      <td>32.000000</td>\n",
              "    </tr>\n",
              "    <tr>\n",
              "      <th>25%</th>\n",
              "      <td>20.000000</td>\n",
              "      <td>44.000000</td>\n",
              "      <td>56.000000</td>\n",
              "    </tr>\n",
              "    <tr>\n",
              "      <th>50%</th>\n",
              "      <td>22.000000</td>\n",
              "      <td>56.000000</td>\n",
              "      <td>68.000000</td>\n",
              "    </tr>\n",
              "    <tr>\n",
              "      <th>75%</th>\n",
              "      <td>27.000000</td>\n",
              "      <td>65.000000</td>\n",
              "      <td>77.000000</td>\n",
              "    </tr>\n",
              "    <tr>\n",
              "      <th>max</th>\n",
              "      <td>31.000000</td>\n",
              "      <td>93.000000</td>\n",
              "      <td>100.000000</td>\n",
              "    </tr>\n",
              "  </tbody>\n",
              "</table>\n",
              "</div>"
            ],
            "text/plain": [
              "         n_student      pretest     posttest\n",
              "count  2133.000000  2133.000000  2133.000000\n",
              "mean     22.796531    54.955931    67.102203\n",
              "std       4.228893    13.563101    13.986789\n",
              "min      14.000000    22.000000    32.000000\n",
              "25%      20.000000    44.000000    56.000000\n",
              "50%      22.000000    56.000000    68.000000\n",
              "75%      27.000000    65.000000    77.000000\n",
              "max      31.000000    93.000000   100.000000"
            ]
          },
          "metadata": {
            "tags": []
          },
          "execution_count": 32
        }
      ]
    },
    {
      "cell_type": "code",
      "metadata": {
        "id": "SPhmBDmIrOxx"
      },
      "source": [
        "from sklearn.preprocessing import OneHotEncoder\n",
        "encod = OneHotEncoder()"
      ],
      "execution_count": null,
      "outputs": []
    },
    {
      "cell_type": "code",
      "metadata": {
        "id": "bKcNlY012n3U"
      },
      "source": [
        "X = df[features]"
      ],
      "execution_count": null,
      "outputs": []
    },
    {
      "cell_type": "code",
      "metadata": {
        "id": "60IUvS1k3Fpq"
      },
      "source": [
        "# X_encode = encod.fit_transform(X.drop(columns=['n_student', 'pretest']))"
      ],
      "execution_count": null,
      "outputs": []
    },
    {
      "cell_type": "code",
      "metadata": {
        "id": "4WgodLB16zSJ"
      },
      "source": [
        "def categorical_options(categories):\n",
        "  cat_option = {}\n",
        "  for cat in categories:\n",
        "    options = list(set(df[cat]))\n",
        "    cat_option[cat] = options\n",
        "  return cat_option"
      ],
      "execution_count": null,
      "outputs": []
    },
    {
      "cell_type": "code",
      "metadata": {
        "colab": {
          "base_uri": "https://localhost:8080/"
        },
        "id": "sXTn_N43sqCO",
        "outputId": "eecdf4b1-b5ed-473e-accf-4451c04d6de6"
      },
      "source": [
        "categories = ['school_setting', 'school_type', 'teaching_method', 'gender', 'lunch']\n",
        "print(categorical_options(categories))\n",
        "print('Number of School :', len(set(df['school'])))"
      ],
      "execution_count": null,
      "outputs": [
        {
          "output_type": "stream",
          "text": [
            "{'school_setting': ['Urban', 'Suburban', 'Rural'], 'school_type': ['Non-public', 'Public'], 'teaching_method': ['Experimental', 'Standard'], 'gender': ['Female', 'Male'], 'lunch': ['Does not qualify', 'Qualifies for reduced/free lunch']}\n",
            "Number of School : 23\n"
          ],
          "name": "stdout"
        }
      ]
    },
    {
      "cell_type": "code",
      "metadata": {
        "colab": {
          "base_uri": "https://localhost:8080/"
        },
        "id": "FMcAcyE5s1da",
        "outputId": "d23781db-c08d-476f-b9ad-23b73f5cf459"
      },
      "source": [
        "print('Rata rata Pretest :', np.mean(df['pretest'].values).round(2))\n",
        "print('Rata rata posttest :', np.mean(df['posttest'].values).round(2))"
      ],
      "execution_count": null,
      "outputs": [
        {
          "output_type": "stream",
          "text": [
            "Rata rata Pretest : 54.96\n",
            "Rata rata posttest : 67.1\n"
          ],
          "name": "stdout"
        }
      ]
    },
    {
      "cell_type": "code",
      "metadata": {
        "id": "xXTU5lrLuvgd"
      },
      "source": [
        "pre_val = df['pretest'].values\n",
        "post_val = df['posttest'].values"
      ],
      "execution_count": null,
      "outputs": []
    },
    {
      "cell_type": "code",
      "metadata": {
        "id": "CxLTVzsnvykv",
        "colab": {
          "base_uri": "https://localhost:8080/"
        },
        "outputId": "879d4c9d-35ba-44a1-cdef-0fc16635819e"
      },
      "source": [
        "print('Banyak siswa yang lulus pretest di atas rata-rata :', sum(pre_val >= np.mean(pre_val)))\n",
        "print('Banyak siswa yang lulus posttest di atas rata-rata :', sum(post_val >= np.mean(post_val)))"
      ],
      "execution_count": null,
      "outputs": [
        {
          "output_type": "stream",
          "text": [
            "Banyak siswa yang lulus pretest di atas rata-rata : 1126\n",
            "Banyak siswa yang lulus posttest di atas rata-rata : 1080\n"
          ],
          "name": "stdout"
        }
      ]
    },
    {
      "cell_type": "code",
      "metadata": {
        "colab": {
          "base_uri": "https://localhost:8080/"
        },
        "id": "bJeCSlEt1WEZ",
        "outputId": "4bfdd7db-f847-4564-f742-ff798264cbc7"
      },
      "source": [
        "print(pre_val[:3])\n",
        "print(post_val[:3])\n"
      ],
      "execution_count": null,
      "outputs": [
        {
          "output_type": "stream",
          "text": [
            "[62. 66. 64.]\n",
            "[72. 79. 76.]\n"
          ],
          "name": "stdout"
        }
      ]
    },
    {
      "cell_type": "code",
      "metadata": {
        "id": "tCXm-MtBz8Zy",
        "colab": {
          "base_uri": "https://localhost:8080/"
        },
        "outputId": "6898df87-2700-4aa9-f40a-f8795b7ca97c"
      },
      "source": [
        "pre_af = pre_val.reshape((-1,1))\n",
        "post_af = post_val.reshape((-1,1))\n",
        "mix = np.hstack((pre_af, post_af))\n",
        "avg_mix = np.array([i.mean() for i in mix])\n",
        "avg_mix"
      ],
      "execution_count": null,
      "outputs": [
        {
          "output_type": "execute_result",
          "data": {
            "text/plain": [
              "array([67. , 72.5, 70. , ..., 48. , 49.5, 44.5])"
            ]
          },
          "metadata": {
            "tags": []
          },
          "execution_count": 42
        }
      ]
    },
    {
      "cell_type": "code",
      "metadata": {
        "colab": {
          "base_uri": "https://localhost:8080/"
        },
        "id": "OqAjEECZ2HEy",
        "outputId": "6e0f8b46-424f-4947-8081-71dcd018bfab"
      },
      "source": [
        "print('Banyak siswa yang rata-rata kedua test nya di atas rata kedua test tersebut :', sum(avg_mix >= np.mean(avg_mix)))"
      ],
      "execution_count": null,
      "outputs": [
        {
          "output_type": "stream",
          "text": [
            "Banyak siswa yang rata-rata kedua test nya di atas rata kedua test tersebut : 1097\n"
          ],
          "name": "stdout"
        }
      ]
    },
    {
      "cell_type": "code",
      "metadata": {
        "id": "ebs6ae133DW4",
        "colab": {
          "base_uri": "https://localhost:8080/",
          "height": 487
        },
        "outputId": "c62d4959-936e-46ad-b530-9c9f9773e609"
      },
      "source": [
        "X"
      ],
      "execution_count": null,
      "outputs": [
        {
          "output_type": "execute_result",
          "data": {
            "text/html": [
              "<div>\n",
              "<style scoped>\n",
              "    .dataframe tbody tr th:only-of-type {\n",
              "        vertical-align: middle;\n",
              "    }\n",
              "\n",
              "    .dataframe tbody tr th {\n",
              "        vertical-align: top;\n",
              "    }\n",
              "\n",
              "    .dataframe thead th {\n",
              "        text-align: right;\n",
              "    }\n",
              "</style>\n",
              "<table border=\"1\" class=\"dataframe\">\n",
              "  <thead>\n",
              "    <tr style=\"text-align: right;\">\n",
              "      <th></th>\n",
              "      <th>school</th>\n",
              "      <th>school_setting</th>\n",
              "      <th>school_type</th>\n",
              "      <th>teaching_method</th>\n",
              "      <th>n_student</th>\n",
              "      <th>gender</th>\n",
              "      <th>lunch</th>\n",
              "      <th>pretest</th>\n",
              "    </tr>\n",
              "  </thead>\n",
              "  <tbody>\n",
              "    <tr>\n",
              "      <th>0</th>\n",
              "      <td>ANKYI</td>\n",
              "      <td>Urban</td>\n",
              "      <td>Non-public</td>\n",
              "      <td>Standard</td>\n",
              "      <td>20.0</td>\n",
              "      <td>Female</td>\n",
              "      <td>Does not qualify</td>\n",
              "      <td>62.0</td>\n",
              "    </tr>\n",
              "    <tr>\n",
              "      <th>1</th>\n",
              "      <td>ANKYI</td>\n",
              "      <td>Urban</td>\n",
              "      <td>Non-public</td>\n",
              "      <td>Standard</td>\n",
              "      <td>20.0</td>\n",
              "      <td>Female</td>\n",
              "      <td>Does not qualify</td>\n",
              "      <td>66.0</td>\n",
              "    </tr>\n",
              "    <tr>\n",
              "      <th>2</th>\n",
              "      <td>ANKYI</td>\n",
              "      <td>Urban</td>\n",
              "      <td>Non-public</td>\n",
              "      <td>Standard</td>\n",
              "      <td>20.0</td>\n",
              "      <td>Male</td>\n",
              "      <td>Does not qualify</td>\n",
              "      <td>64.0</td>\n",
              "    </tr>\n",
              "    <tr>\n",
              "      <th>3</th>\n",
              "      <td>ANKYI</td>\n",
              "      <td>Urban</td>\n",
              "      <td>Non-public</td>\n",
              "      <td>Standard</td>\n",
              "      <td>20.0</td>\n",
              "      <td>Female</td>\n",
              "      <td>Does not qualify</td>\n",
              "      <td>61.0</td>\n",
              "    </tr>\n",
              "    <tr>\n",
              "      <th>4</th>\n",
              "      <td>ANKYI</td>\n",
              "      <td>Urban</td>\n",
              "      <td>Non-public</td>\n",
              "      <td>Standard</td>\n",
              "      <td>20.0</td>\n",
              "      <td>Male</td>\n",
              "      <td>Does not qualify</td>\n",
              "      <td>64.0</td>\n",
              "    </tr>\n",
              "    <tr>\n",
              "      <th>...</th>\n",
              "      <td>...</td>\n",
              "      <td>...</td>\n",
              "      <td>...</td>\n",
              "      <td>...</td>\n",
              "      <td>...</td>\n",
              "      <td>...</td>\n",
              "      <td>...</td>\n",
              "      <td>...</td>\n",
              "    </tr>\n",
              "    <tr>\n",
              "      <th>2128</th>\n",
              "      <td>ZOWMK</td>\n",
              "      <td>Urban</td>\n",
              "      <td>Public</td>\n",
              "      <td>Standard</td>\n",
              "      <td>30.0</td>\n",
              "      <td>Female</td>\n",
              "      <td>Does not qualify</td>\n",
              "      <td>39.0</td>\n",
              "    </tr>\n",
              "    <tr>\n",
              "      <th>2129</th>\n",
              "      <td>ZOWMK</td>\n",
              "      <td>Urban</td>\n",
              "      <td>Public</td>\n",
              "      <td>Standard</td>\n",
              "      <td>30.0</td>\n",
              "      <td>Female</td>\n",
              "      <td>Qualifies for reduced/free lunch</td>\n",
              "      <td>38.0</td>\n",
              "    </tr>\n",
              "    <tr>\n",
              "      <th>2130</th>\n",
              "      <td>ZOWMK</td>\n",
              "      <td>Urban</td>\n",
              "      <td>Public</td>\n",
              "      <td>Standard</td>\n",
              "      <td>30.0</td>\n",
              "      <td>Female</td>\n",
              "      <td>Qualifies for reduced/free lunch</td>\n",
              "      <td>45.0</td>\n",
              "    </tr>\n",
              "    <tr>\n",
              "      <th>2131</th>\n",
              "      <td>ZOWMK</td>\n",
              "      <td>Urban</td>\n",
              "      <td>Public</td>\n",
              "      <td>Standard</td>\n",
              "      <td>30.0</td>\n",
              "      <td>Male</td>\n",
              "      <td>Qualifies for reduced/free lunch</td>\n",
              "      <td>46.0</td>\n",
              "    </tr>\n",
              "    <tr>\n",
              "      <th>2132</th>\n",
              "      <td>ZOWMK</td>\n",
              "      <td>Urban</td>\n",
              "      <td>Public</td>\n",
              "      <td>Standard</td>\n",
              "      <td>30.0</td>\n",
              "      <td>Male</td>\n",
              "      <td>Qualifies for reduced/free lunch</td>\n",
              "      <td>41.0</td>\n",
              "    </tr>\n",
              "  </tbody>\n",
              "</table>\n",
              "<p>2133 rows × 8 columns</p>\n",
              "</div>"
            ],
            "text/plain": [
              "     school school_setting  ...                             lunch pretest\n",
              "0     ANKYI          Urban  ...                  Does not qualify    62.0\n",
              "1     ANKYI          Urban  ...                  Does not qualify    66.0\n",
              "2     ANKYI          Urban  ...                  Does not qualify    64.0\n",
              "3     ANKYI          Urban  ...                  Does not qualify    61.0\n",
              "4     ANKYI          Urban  ...                  Does not qualify    64.0\n",
              "...     ...            ...  ...                               ...     ...\n",
              "2128  ZOWMK          Urban  ...                  Does not qualify    39.0\n",
              "2129  ZOWMK          Urban  ...  Qualifies for reduced/free lunch    38.0\n",
              "2130  ZOWMK          Urban  ...  Qualifies for reduced/free lunch    45.0\n",
              "2131  ZOWMK          Urban  ...  Qualifies for reduced/free lunch    46.0\n",
              "2132  ZOWMK          Urban  ...  Qualifies for reduced/free lunch    41.0\n",
              "\n",
              "[2133 rows x 8 columns]"
            ]
          },
          "metadata": {
            "tags": []
          },
          "execution_count": 44
        }
      ]
    },
    {
      "cell_type": "code",
      "metadata": {
        "colab": {
          "base_uri": "https://localhost:8080/"
        },
        "id": "4rpPpeSA-WGM",
        "outputId": "a0bcadcf-6b82-4c08-9dff-2ce2df77f2ca"
      },
      "source": [
        "df.iloc[df['posttest'].argmax(), :]"
      ],
      "execution_count": null,
      "outputs": [
        {
          "output_type": "execute_result",
          "data": {
            "text/plain": [
              "school                        IDGFP\n",
              "school_setting                Urban\n",
              "school_type              Non-public\n",
              "classroom                       P2A\n",
              "teaching_method        Experimental\n",
              "n_student                        17\n",
              "student_id                    BYVSP\n",
              "gender                         Male\n",
              "lunch              Does not qualify\n",
              "pretest                          86\n",
              "posttest                        100\n",
              "Name: 902, dtype: object"
            ]
          },
          "metadata": {
            "tags": []
          },
          "execution_count": 45
        }
      ]
    },
    {
      "cell_type": "code",
      "metadata": {
        "colab": {
          "base_uri": "https://localhost:8080/"
        },
        "id": "ZFVkY9LH-nvo",
        "outputId": "14da1d4d-437b-4eac-81a4-692157d3d493"
      },
      "source": [
        "df[df['posttest'] == df.posttest.max()].index"
      ],
      "execution_count": null,
      "outputs": [
        {
          "output_type": "execute_result",
          "data": {
            "text/plain": [
              "Int64Index([902, 903, 905, 907, 908, 909, 911, 915], dtype='int64')"
            ]
          },
          "metadata": {
            "tags": []
          },
          "execution_count": 46
        }
      ]
    },
    {
      "cell_type": "code",
      "metadata": {
        "colab": {
          "base_uri": "https://localhost:8080/",
          "height": 297
        },
        "id": "z0ceCxEF_oQv",
        "outputId": "7271752c-ed5f-4e39-af23-bece35ef7491"
      },
      "source": [
        "sns.countplot(x=df['school_setting'])"
      ],
      "execution_count": null,
      "outputs": [
        {
          "output_type": "execute_result",
          "data": {
            "text/plain": [
              "<matplotlib.axes._subplots.AxesSubplot at 0x7fd305f49950>"
            ]
          },
          "metadata": {
            "tags": []
          },
          "execution_count": 47
        },
        {
          "output_type": "display_data",
          "data": {
            "image/png": "[encoded data removed]",
            "text/plain": [
              "<Figure size 432x288 with 1 Axes>"
            ]
          },
          "metadata": {
            "tags": [],
            "needs_background": "light"
          }
        }
      ]
    },
    {
      "cell_type": "code",
      "metadata": {
        "colab": {
          "base_uri": "https://localhost:8080/",
          "height": 297
        },
        "id": "8ssuOBtZBB1-",
        "outputId": "bd901a84-17d3-41a4-a012-0ab5366fac65"
      },
      "source": [
        "sns.countplot(x=df['school_type'])"
      ],
      "execution_count": null,
      "outputs": [
        {
          "output_type": "execute_result",
          "data": {
            "text/plain": [
              "<matplotlib.axes._subplots.AxesSubplot at 0x7fd305f19a10>"
            ]
          },
          "metadata": {
            "tags": []
          },
          "execution_count": 48
        },
        {
          "output_type": "display_data",
          "data": {
            "image/png": "[encoded data removed]",
            "text/plain": [
              "<Figure size 432x288 with 1 Axes>"
            ]
          },
          "metadata": {
            "tags": [],
            "needs_background": "light"
          }
        }
      ]
    },
    {
      "cell_type": "code",
      "metadata": {
        "colab": {
          "base_uri": "https://localhost:8080/",
          "height": 297
        },
        "id": "D-oE63-BBTwB",
        "outputId": "48ada321-a858-4a36-b3e0-6388db308e86"
      },
      "source": [
        "sns.countplot(x=df['teaching_method'])"
      ],
      "execution_count": null,
      "outputs": [
        {
          "output_type": "execute_result",
          "data": {
            "text/plain": [
              "<matplotlib.axes._subplots.AxesSubplot at 0x7fd305e8df10>"
            ]
          },
          "metadata": {
            "tags": []
          },
          "execution_count": 49
        },
        {
          "output_type": "display_data",
          "data": {
            "image/png": "[encoded data removed]",
            "text/plain": [
              "<Figure size 432x288 with 1 Axes>"
            ]
          },
          "metadata": {
            "tags": [],
            "needs_background": "light"
          }
        }
      ]
    },
    {
      "cell_type": "code",
      "metadata": {
        "colab": {
          "base_uri": "https://localhost:8080/",
          "height": 296
        },
        "id": "8Ru9dXfRBaBN",
        "outputId": "94328d00-01e4-4eb8-f56c-f118726da00c"
      },
      "source": [
        "sns.countplot(x=df['gender'])"
      ],
      "execution_count": null,
      "outputs": [
        {
          "output_type": "execute_result",
          "data": {
            "text/plain": [
              "<matplotlib.axes._subplots.AxesSubplot at 0x7fd305e5d690>"
            ]
          },
          "metadata": {
            "tags": []
          },
          "execution_count": 50
        },
        {
          "output_type": "display_data",
          "data": {
            "image/png": "[encoded data removed]",
            "text/plain": [
              "<Figure size 432x288 with 1 Axes>"
            ]
          },
          "metadata": {
            "tags": [],
            "needs_background": "light"
          }
        }
      ]
    },
    {
      "cell_type": "code",
      "metadata": {
        "colab": {
          "base_uri": "https://localhost:8080/",
          "height": 296
        },
        "id": "4f_YfV3QBgN6",
        "outputId": "6c192d26-3865-4026-93dd-57e60b43a4d2"
      },
      "source": [
        "sns.countplot(x=df['lunch'])"
      ],
      "execution_count": null,
      "outputs": [
        {
          "output_type": "execute_result",
          "data": {
            "text/plain": [
              "<matplotlib.axes._subplots.AxesSubplot at 0x7fd305db5b10>"
            ]
          },
          "metadata": {
            "tags": []
          },
          "execution_count": 51
        },
        {
          "output_type": "display_data",
          "data": {
            "image/png": "[encoded data removed]",
            "text/plain": [
              "<Figure size 432x288 with 1 Axes>"
            ]
          },
          "metadata": {
            "tags": [],
            "needs_background": "light"
          }
        }
      ]
    },
    {
      "cell_type": "code",
      "metadata": {
        "id": "r0u08xh8BmAJ",
        "colab": {
          "base_uri": "https://localhost:8080/",
          "height": 389
        },
        "outputId": "b16469ef-276f-49cc-e942-3ed229033a14"
      },
      "source": [
        "plt.style.use('seaborn-darkgrid')\n",
        "fig, (ax1, ax2) = plt.subplots(1, 2, figsize=(12,6))\n",
        "sns.boxplot(x=df['pretest'], ax=ax1, linewidth=1.5)\n",
        "sns.histplot(x=df['pretest'], ax=ax2, kde=True)\n",
        "\n",
        "ax1.tick_params(labelsize=14)\n",
        "ax2.tick_params(labelsize=14)"
      ],
      "execution_count": null,
      "outputs": [
        {
          "output_type": "display_data",
          "data": {
            "image/png": "[encoded data removed]",
            "text/plain": [
              "<Figure size 864x432 with 2 Axes>"
            ]
          },
          "metadata": {
            "tags": []
          }
        }
      ]
    },
    {
      "cell_type": "code",
      "metadata": {
        "colab": {
          "base_uri": "https://localhost:8080/",
          "height": 389
        },
        "id": "WG4X8u8ijNRF",
        "outputId": "d76d343f-88a4-4f28-ae44-77ef0271229e"
      },
      "source": [
        "plt.style.use('seaborn-darkgrid')\n",
        "\n",
        "fig, (ax1, ax2) = plt.subplots(1, 2, figsize=(12,6))\n",
        "sns.boxplot(x=df['posttest'], ax=ax1, linewidth=1.5)\n",
        "sns.histplot(x=df['posttest'], ax=ax2, kde=True)\n",
        "\n",
        "ax1.tick_params(labelsize=14)\n",
        "ax2.tick_params(labelsize=14)"
      ],
      "execution_count": null,
      "outputs": [
        {
          "output_type": "display_data",
          "data": {
            "image/png": "[encoded data removed]",
            "text/plain": [
              "<Figure size 864x432 with 2 Axes>"
            ]
          },
          "metadata": {
            "tags": []
          }
        }
      ]
    },
    {
      "cell_type": "code",
      "metadata": {
        "colab": {
          "base_uri": "https://localhost:8080/",
          "height": 389
        },
        "id": "FgOGJt6imDh8",
        "outputId": "e4481513-4835-4645-fe80-09d0720120c6"
      },
      "source": [
        "fig, (ax1, ax2) = plt.subplots(1, 2, figsize=(12,6))\n",
        "sns.boxplot(x=df['gender'], y=df['posttest'], ax=ax1)\n",
        "sns.histplot(x=df['posttest'], ax=ax2, kde=True)\n",
        "\n",
        "ax1.tick_params(labelsize=14)\n",
        "ax2.tick_params(labelsize=14)\n"
      ],
      "execution_count": null,
      "outputs": [
        {
          "output_type": "display_data",
          "data": {
            "image/png": "[encoded data removed]",
            "text/plain": [
              "<Figure size 864x432 with 2 Axes>"
            ]
          },
          "metadata": {
            "tags": []
          }
        }
      ]
    },
    {
      "cell_type": "code",
      "metadata": {
        "colab": {
          "base_uri": "https://localhost:8080/",
          "height": 442
        },
        "id": "mU50YAXQm-1h",
        "outputId": "1033cc77-08bb-454c-f30d-5bd48872e9d5"
      },
      "source": [
        "df[['pretest', 'posttest']].plot(figsize = (12,7), linewidth = 0.7)"
      ],
      "execution_count": null,
      "outputs": [
        {
          "output_type": "execute_result",
          "data": {
            "text/plain": [
              "<matplotlib.axes._subplots.AxesSubplot at 0x7fd3039c8750>"
            ]
          },
          "metadata": {
            "tags": []
          },
          "execution_count": 55
        },
        {
          "output_type": "display_data",
          "data": {
            "image/png": "[encoded data removed]",
            "text/plain": [
              "<Figure size 864x504 with 1 Axes>"
            ]
          },
          "metadata": {
            "tags": []
          }
        }
      ]
    },
    {
      "cell_type": "code",
      "metadata": {
        "colab": {
          "base_uri": "https://localhost:8080/",
          "height": 279
        },
        "id": "cU1w5fkfpowv",
        "outputId": "3d5d14f7-59dd-4d74-f189-cc9460a9b37c"
      },
      "source": [
        "# Just an experiment\n",
        "import matplotlib.cm as cm\n",
        "\n",
        "fig, ax = plt.subplots(figsize=(4,4))\n",
        "x = np.arange(10)\n",
        "ys = [i+x+(i*x)**2 for i in range(10)]\n",
        "\n",
        "colors = cm.rainbow(np.linspace(0, 1, len(ys)))\n",
        "for y, c in zip(ys, colors):\n",
        "    ax.scatter(x, y, color=c)\n",
        "ax.set_ylim(bottom=0)\n",
        "ax.set_xlim(left=0)\n"
      ],
      "execution_count": null,
      "outputs": [
        {
          "output_type": "execute_result",
          "data": {
            "text/plain": [
              "(0.0, 9.45)"
            ]
          },
          "metadata": {
            "tags": []
          },
          "execution_count": 56
        },
        {
          "output_type": "display_data",
          "data": {
            "image/png": "[encoded data removed]",
            "text/plain": [
              "<Figure size 288x288 with 1 Axes>"
            ]
          },
          "metadata": {
            "tags": []
          }
        }
      ]
    },
    {
      "cell_type": "code",
      "metadata": {
        "colab": {
          "base_uri": "https://localhost:8080/",
          "height": 526
        },
        "id": "Il1bMiwbqtoH",
        "outputId": "bb994620-2b9a-4fb9-dcff-90b4104ba2c8"
      },
      "source": [
        "plt.style.use('fivethirtyeight')\n",
        "\n",
        "fig, ax = plt.subplots(figsize=(12,7))\n",
        "\n",
        "ax.plot('pretest', 'posttest', 'o', data=df, color='maroon', markersize=5)\n",
        "\n",
        "fig.suptitle('A plot of pretest against posttest scores', fontweight='bold', fontsize=18, color='maroon')\n",
        "\n",
        "ax.set_xlabel('Pretest scores', fontsize=16, fontweight='bold', color='firebrick')\n",
        "ax.set_ylabel('Posttest scores', fontsize=16, fontweight='bold', color='firebrick')\n",
        "\n",
        "ax.axhline(df['posttest'].mean(), ls = '--', linewidth = 1.5)\n",
        "ax.axvline(df['pretest'].mean(), ls = '--', linewidth = 1.5, color = 'green')\n",
        "\n",
        "ax.tick_params(labelsize=14, labelcolor='orangered')\n",
        "plt.show()"
      ],
      "execution_count": null,
      "outputs": [
        {
          "output_type": "display_data",
          "data": {
            "image/png": "[encoded data removed]",
            "text/plain": [
              "<Figure size 864x504 with 1 Axes>"
            ]
          },
          "metadata": {
            "tags": []
          }
        }
      ]
    },
    {
      "cell_type": "code",
      "metadata": {
        "id": "RTj1ZJ_CtjJn"
      },
      "source": [
        "# import scipy as sp\n",
        "import scipy as sp"
      ],
      "execution_count": null,
      "outputs": []
    },
    {
      "cell_type": "code",
      "metadata": {
        "colab": {
          "base_uri": "https://localhost:8080/"
        },
        "id": "71_ZBGDewBMB",
        "outputId": "a2fd59a9-900b-4b4f-faf3-1985b8ae6dad"
      },
      "source": [
        "# Calculating for spearman's rank correlation among the scores\n",
        "print(sp.stats.spearmanr(df['pretest'], df['posttest']), end='\\n\\n')\n",
        "\n",
        "# Calculating for Pearson's correlation among the scores\n",
        "pearsonr = sp.stats.pearsonr(df['pretest'], df['posttest'])\n",
        "print('Pearsonr correlaton =', pearsonr[0], 'P-value =', pearsonr[1])"
      ],
      "execution_count": null,
      "outputs": [
        {
          "output_type": "stream",
          "text": [
            "SpearmanrResult(correlation=0.9524611026478276, pvalue=0.0)\n",
            "\n",
            "Pearsonr correlaton = 0.9508842857175767 P-value = 0.0\n"
          ],
          "name": "stdout"
        }
      ]
    },
    {
      "cell_type": "code",
      "metadata": {
        "colab": {
          "base_uri": "https://localhost:8080/"
        },
        "id": "EYlJRKs356lf",
        "outputId": "575091fe-2c54-4dfc-90ba-5ae909846008"
      },
      "source": [
        "# H0: The scores are normally distributed\n",
        "# H1: The scores are not normally distributed\n",
        "\n",
        "# Test for normality from the posttest scores\n",
        "sp.stats.shapiro(df.posttest)"
      ],
      "execution_count": null,
      "outputs": [
        {
          "output_type": "execute_result",
          "data": {
            "text/plain": [
              "(0.9877511858940125, 1.5582422505100446e-12)"
            ]
          },
          "metadata": {
            "tags": []
          },
          "execution_count": 60
        }
      ]
    },
    {
      "cell_type": "code",
      "metadata": {
        "colab": {
          "base_uri": "https://localhost:8080/"
        },
        "id": "RvZAkPI67ovU",
        "outputId": "8d5c68e8-931f-4484-d44f-be04f0bbc4f6"
      },
      "source": [
        "# H0: The scores have equal variances\n",
        "# H1: The scores do not have equal variances\n",
        "\n",
        "sp.stats.levene(df.pretest, df.posttest)"
      ],
      "execution_count": null,
      "outputs": [
        {
          "output_type": "execute_result",
          "data": {
            "text/plain": [
              "LeveneResult(statistic=3.6676091318592823, pvalue=0.055546543831744156)"
            ]
          },
          "metadata": {
            "tags": []
          },
          "execution_count": 61
        }
      ]
    },
    {
      "cell_type": "code",
      "metadata": {
        "colab": {
          "base_uri": "https://localhost:8080/",
          "height": 142
        },
        "id": "m5a027Vp7tKT",
        "outputId": "b157f3aa-c0d2-49f3-b840-bd465ac4757f"
      },
      "source": [
        "df.groupby(['gender'])[['pretest', 'posttest']].mean()\n",
        "# Grouping the average score based on the gender"
      ],
      "execution_count": null,
      "outputs": [
        {
          "output_type": "execute_result",
          "data": {
            "text/html": [
              "<div>\n",
              "<style scoped>\n",
              "    .dataframe tbody tr th:only-of-type {\n",
              "        vertical-align: middle;\n",
              "    }\n",
              "\n",
              "    .dataframe tbody tr th {\n",
              "        vertical-align: top;\n",
              "    }\n",
              "\n",
              "    .dataframe thead th {\n",
              "        text-align: right;\n",
              "    }\n",
              "</style>\n",
              "<table border=\"1\" class=\"dataframe\">\n",
              "  <thead>\n",
              "    <tr style=\"text-align: right;\">\n",
              "      <th></th>\n",
              "      <th>pretest</th>\n",
              "      <th>posttest</th>\n",
              "    </tr>\n",
              "    <tr>\n",
              "      <th>gender</th>\n",
              "      <th></th>\n",
              "      <th></th>\n",
              "    </tr>\n",
              "  </thead>\n",
              "  <tbody>\n",
              "    <tr>\n",
              "      <th>Female</th>\n",
              "      <td>54.873106</td>\n",
              "      <td>67.004735</td>\n",
              "    </tr>\n",
              "    <tr>\n",
              "      <th>Male</th>\n",
              "      <td>55.037140</td>\n",
              "      <td>67.197772</td>\n",
              "    </tr>\n",
              "  </tbody>\n",
              "</table>\n",
              "</div>"
            ],
            "text/plain": [
              "          pretest   posttest\n",
              "gender                      \n",
              "Female  54.873106  67.004735\n",
              "Male    55.037140  67.197772"
            ]
          },
          "metadata": {
            "tags": []
          },
          "execution_count": 62
        }
      ]
    },
    {
      "cell_type": "code",
      "metadata": {
        "colab": {
          "base_uri": "https://localhost:8080/"
        },
        "id": "2h96-cNr8nFO",
        "outputId": "b51724ab-3a52-48f9-da45-c17841c3c6b2"
      },
      "source": [
        "# Independent Sample T-test between male and female on pre-test scores\n",
        "male_pretest = df[df.gender == 'Male']['pretest']\n",
        "fem_pretest = df[df.gender == 'Female']['pretest']\n",
        "\n",
        "# Test for normality in the male and female pretest scores\n",
        "\n",
        "# H0: The scores are normally distributed\n",
        "# H1: The scores are not normally distributed\n",
        "\n",
        "print('Male_pretest:',sp.stats.shapiro(male_pretest))\n",
        "print('Female_pretest:',sp.stats.shapiro(fem_pretest))"
      ],
      "execution_count": null,
      "outputs": [
        {
          "output_type": "stream",
          "text": [
            "Male_pretest: (0.9907973408699036, 2.867890316338162e-06)\n",
            "Female_pretest: (0.986625611782074, 3.0538860329443196e-08)\n"
          ],
          "name": "stdout"
        }
      ]
    },
    {
      "cell_type": "code",
      "metadata": {
        "colab": {
          "base_uri": "https://localhost:8080/"
        },
        "id": "paXerdah_NZ7",
        "outputId": "cb90c5e3-dfcb-4686-87e4-364675e47a09"
      },
      "source": [
        "df.columns"
      ],
      "execution_count": null,
      "outputs": [
        {
          "output_type": "execute_result",
          "data": {
            "text/plain": [
              "Index(['school', 'school_setting', 'school_type', 'classroom',\n",
              "       'teaching_method', 'n_student', 'student_id', 'gender', 'lunch',\n",
              "       'pretest', 'posttest'],\n",
              "      dtype='object')"
            ]
          },
          "metadata": {
            "tags": []
          },
          "execution_count": 64
        }
      ]
    },
    {
      "cell_type": "code",
      "metadata": {
        "id": "rozNHE0g9bs6"
      },
      "source": [
        "X = df.drop(columns=['student_id', 'classroom','posttest'])\n",
        "y = df['posttest']"
      ],
      "execution_count": null,
      "outputs": []
    },
    {
      "cell_type": "code",
      "metadata": {
        "id": "6WHk6hws9p3i"
      },
      "source": [
        "import sklearn\n",
        "from sklearn.compose import ColumnTransformer\n",
        "from sklearn.preprocessing import OneHotEncoder"
      ],
      "execution_count": null,
      "outputs": []
    },
    {
      "cell_type": "code",
      "metadata": {
        "id": "uRHCdhs893hr"
      },
      "source": [
        "categories = ['school', 'school_setting', 'school_type', 'teaching_method', 'gender', 'lunch']\n",
        "one_hot = OneHotEncoder()\n",
        "transformer = ColumnTransformer([('one_hot', one_hot, categories)], remainder='passthrough')"
      ],
      "execution_count": null,
      "outputs": []
    },
    {
      "cell_type": "code",
      "metadata": {
        "id": "IlfXAyqY97PU"
      },
      "source": [
        "X_transformed = transformer.fit_transform(X)"
      ],
      "execution_count": null,
      "outputs": []
    },
    {
      "cell_type": "code",
      "metadata": {
        "id": "4o6eiJj6_s7B"
      },
      "source": [
        "np.random.seed(42)\n",
        "from sklearn.model_selection import train_test_split\n",
        "\n",
        "X_train, X_test, y_train, y_test = train_test_split(X_transformed, y.values, test_size=0.2, random_state=9)"
      ],
      "execution_count": null,
      "outputs": []
    },
    {
      "cell_type": "code",
      "metadata": {
        "colab": {
          "base_uri": "https://localhost:8080/"
        },
        "id": "uNKjxm4wAfCF",
        "outputId": "83693699-b15e-46f2-f2f3-451b8069e77a"
      },
      "source": [
        "from sklearn.ensemble import RandomForestRegressor\n",
        "\n",
        "model = RandomForestRegressor()\n",
        "model.fit(X_train, y_train)\n",
        "\n",
        "print(model.score(X_test, y_test))"
      ],
      "execution_count": null,
      "outputs": [
        {
          "output_type": "stream",
          "text": [
            "0.9411896923109052\n"
          ],
          "name": "stdout"
        }
      ]
    },
    {
      "cell_type": "code",
      "metadata": {
        "colab": {
          "base_uri": "https://localhost:8080/"
        },
        "id": "PRDSGQuxBC59",
        "outputId": "0a3854ed-ebab-497d-dcc9-4c13b45dd432"
      },
      "source": [
        "from sklearn.model_selection import cross_val_score\n",
        "\n",
        "val_score = cross_val_score(model, X_transformed, y.values)\n",
        "print(val_score, np.mean(val_score), sep=' \\n')"
      ],
      "execution_count": null,
      "outputs": [
        {
          "output_type": "stream",
          "text": [
            "[0.78745119 0.89778127 0.905511   0.80775769 0.90321514] \n",
            "0.860343258808547\n"
          ],
          "name": "stdout"
        }
      ]
    },
    {
      "cell_type": "code",
      "metadata": {
        "colab": {
          "base_uri": "https://localhost:8080/"
        },
        "id": "JHP9G-YgB7ET",
        "outputId": "39d40326-347b-4e46-cd99-e3864e825e65"
      },
      "source": [
        "cv_mae = cross_val_score(model, X_transformed, y.values, scoring='neg_mean_absolute_error')\n",
        "print(cv_mae.mean())\n",
        "sklearn.metrics.SCORERS.keys()"
      ],
      "execution_count": null,
      "outputs": [
        {
          "output_type": "stream",
          "text": [
            "-3.3296353886689736\n"
          ],
          "name": "stdout"
        },
        {
          "output_type": "execute_result",
          "data": {
            "text/plain": [
              "dict_keys(['explained_variance', 'r2', 'max_error', 'neg_median_absolute_error', 'neg_mean_absolute_error', 'neg_mean_squared_error', 'neg_mean_squared_log_error', 'neg_root_mean_squared_error', 'neg_mean_poisson_deviance', 'neg_mean_gamma_deviance', 'accuracy', 'roc_auc', 'roc_auc_ovr', 'roc_auc_ovo', 'roc_auc_ovr_weighted', 'roc_auc_ovo_weighted', 'balanced_accuracy', 'average_precision', 'neg_log_loss', 'neg_brier_score', 'adjusted_rand_score', 'homogeneity_score', 'completeness_score', 'v_measure_score', 'mutual_info_score', 'adjusted_mutual_info_score', 'normalized_mutual_info_score', 'fowlkes_mallows_score', 'precision', 'precision_macro', 'precision_micro', 'precision_samples', 'precision_weighted', 'recall', 'recall_macro', 'recall_micro', 'recall_samples', 'recall_weighted', 'f1', 'f1_macro', 'f1_micro', 'f1_samples', 'f1_weighted', 'jaccard', 'jaccard_macro', 'jaccard_micro', 'jaccard_samples', 'jaccard_weighted'])"
            ]
          },
          "metadata": {
            "tags": []
          },
          "execution_count": 72
        }
      ]
    },
    {
      "cell_type": "code",
      "metadata": {
        "colab": {
          "base_uri": "https://localhost:8080/"
        },
        "id": "CSPZKKzYC78s",
        "outputId": "36a090e5-ea61-4e37-dd1a-c70e46c57ad3"
      },
      "source": [
        "# Cross-validated mean-squared-error\n",
        "cv_mse = cross_val_score(model, X_transformed, y, scoring = 'neg_mean_squared_error')\n",
        "cv_mse.mean()"
      ],
      "execution_count": null,
      "outputs": [
        {
          "output_type": "execute_result",
          "data": {
            "text/plain": [
              "-18.795424869905297"
            ]
          },
          "metadata": {
            "tags": []
          },
          "execution_count": 73
        }
      ]
    },
    {
      "cell_type": "code",
      "metadata": {
        "id": "9gN43FQeEPAp"
      },
      "source": [
        "from sklearn.metrics import r2_score, mean_absolute_error, mean_squared_error\n",
        "\n",
        "def evaluation_metrics(y_true, y_preds):\n",
        "  '''\n",
        "    A function to compute and return the evaluation metrics in the form of a dictionary.\n",
        "  '''\n",
        "  r2 = r2_score(y_true, y_preds)\n",
        "  mae = mean_absolute_error(y_true, y_preds)\n",
        "  mse = mean_squared_error(y_true, y_preds)\n",
        "\n",
        "  metrics = {'R2 Score' : r2,\n",
        "             'Mean Absolute Error' : mae.round(2),\n",
        "             'Mean Squared Error' : mse.round(2)}\n",
        "  print(f'R2_score: {r2 * 100:.2f}%')\n",
        "  print(f'MAE: {mae:.2f}')\n",
        "  print(f'MSE: {mse:.2f}')\n",
        "  \n",
        "  return metrics"
      ],
      "execution_count": null,
      "outputs": []
    },
    {
      "cell_type": "code",
      "metadata": {
        "colab": {
          "base_uri": "https://localhost:8080/"
        },
        "id": "_mN7nJSWH7kb",
        "outputId": "316d8154-817b-48cc-d84f-1d598f5646cf"
      },
      "source": [
        "X = df.drop(columns=['student_id', 'classroom','posttest'])\n",
        "y = df['posttest']\n",
        "\n",
        "from sklearn.compose import ColumnTransformer\n",
        "from sklearn.preprocessing import OneHotEncoder\n",
        "\n",
        "one_hot = OneHotEncoder()\n",
        "transformer = ColumnTransformer([('one_hot', one_hot, categories)], remainder='passthrough')\n",
        "\n",
        "X_transformed = transformer.fit_transform(X)\n",
        "\n",
        "from sklearn.model_selection import train_test_split\n",
        "X_train, X_test, y_train, y_test = train_test_split(X_transformed, y, random_state=101, test_size=0.2)\n",
        "\n",
        "from sklearn.ensemble import RandomForestRegressor\n",
        "model = RandomForestRegressor()\n",
        "model.fit(X_train, y_train)\n",
        "y_preds = model.predict(X_test)\n",
        "baseline =  evaluation_metrics(y_test, y_preds)"
      ],
      "execution_count": null,
      "outputs": [
        {
          "output_type": "stream",
          "text": [
            "R2_score: 94.42%\n",
            "MAE: 2.63\n",
            "MSE: 11.21\n"
          ],
          "name": "stdout"
        }
      ]
    },
    {
      "cell_type": "code",
      "metadata": {
        "colab": {
          "base_uri": "https://localhost:8080/"
        },
        "id": "qNzMRXeMfX9x",
        "outputId": "0a542541-e961-4621-b77d-08676b605e68"
      },
      "source": [
        "df.columns"
      ],
      "execution_count": null,
      "outputs": [
        {
          "output_type": "execute_result",
          "data": {
            "text/plain": [
              "Index(['school', 'school_setting', 'school_type', 'classroom',\n",
              "       'teaching_method', 'n_student', 'student_id', 'gender', 'lunch',\n",
              "       'pretest', 'posttest'],\n",
              "      dtype='object')"
            ]
          },
          "metadata": {
            "tags": []
          },
          "execution_count": 76
        }
      ]
    },
    {
      "cell_type": "code",
      "metadata": {
        "id": "_vxRmbbiKPcU",
        "colab": {
          "base_uri": "https://localhost:8080/"
        },
        "outputId": "739cc674-a955-45bc-d317-80c18127a7bd"
      },
      "source": [
        "from sklearn.model_selection import RandomizedSearchCV\n",
        "\n",
        "X = df.drop(columns=['classroom', 'student_id', 'posttest'])\n",
        "y = df['posttest']\n",
        "\n",
        "from sklearn.compose import ColumnTransformer\n",
        "from sklearn.preprocessing import OneHotEncoder\n",
        "\n",
        "one_hot = OneHotEncoder()\n",
        "transformer = ColumnTransformer([('one_hot', one_hot, categories)], remainder='passthrough')\n",
        "\n",
        "X_transformed = transformer.fit_transform(X)\n",
        "\n",
        "np.random.seed(42)\n",
        "from sklearn.model_selection import train_test_split\n",
        "\n",
        "X_train, X_val_test, y_train, y_val_test = train_test_split(X_transformed, y, test_size = 0.3)\n",
        "X_val, X_test, y_val, y_test = train_test_split(X_val_test, y_val_test, test_size = 0.5)\n",
        "\n",
        "from sklearn.ensemble import RandomForestRegressor\n",
        "\n",
        "model = RandomForestRegressor(n_jobs=-1)\n",
        "\n",
        "grid = {'n_estimators' : [10,100,200,500,1000,1200],\n",
        "        'max_depth' : [None, 5,10,20,30],\n",
        "        'max_features' : ['auto', 'sqrt'],\n",
        "        'min_samples_split' : [2,4,6],\n",
        "        'min_samples_leaf' : [1,2,4]}\n",
        "\n",
        "rs_model = RandomizedSearchCV(estimator=model,\n",
        "                              param_distributions=grid,\n",
        "                              n_iter=10,\n",
        "                              cv=5,\n",
        "                              verbose=2)\n",
        "rs_model.fit(X_train,y_train)\n"
      ],
      "execution_count": null,
      "outputs": [
        {
          "output_type": "stream",
          "text": [
            "Fitting 5 folds for each of 10 candidates, totalling 50 fits\n",
            "[CV] n_estimators=1200, min_samples_split=4, min_samples_leaf=2, max_features=sqrt, max_depth=10 \n"
          ],
          "name": "stdout"
        },
        {
          "output_type": "stream",
          "text": [
            "[Parallel(n_jobs=1)]: Using backend SequentialBackend with 1 concurrent workers.\n"
          ],
          "name": "stderr"
        },
        {
          "output_type": "stream",
          "text": [
            "[CV]  n_estimators=1200, min_samples_split=4, min_samples_leaf=2, max_features=sqrt, max_depth=10, total=   5.6s\n",
            "[CV] n_estimators=1200, min_samples_split=4, min_samples_leaf=2, max_features=sqrt, max_depth=10 \n"
          ],
          "name": "stdout"
        },
        {
          "output_type": "stream",
          "text": [
            "[Parallel(n_jobs=1)]: Done   1 out of   1 | elapsed:    5.6s remaining:    0.0s\n"
          ],
          "name": "stderr"
        },
        {
          "output_type": "stream",
          "text": [
            "[CV]  n_estimators=1200, min_samples_split=4, min_samples_leaf=2, max_features=sqrt, max_depth=10, total=   4.3s\n",
            "[CV] n_estimators=1200, min_samples_split=4, min_samples_leaf=2, max_features=sqrt, max_depth=10 \n",
            "[CV]  n_estimators=1200, min_samples_split=4, min_samples_leaf=2, max_features=sqrt, max_depth=10, total=   4.4s\n",
            "[CV] n_estimators=1200, min_samples_split=4, min_samples_leaf=2, max_features=sqrt, max_depth=10 \n",
            "[CV]  n_estimators=1200, min_samples_split=4, min_samples_leaf=2, max_features=sqrt, max_depth=10, total=   4.3s\n",
            "[CV] n_estimators=1200, min_samples_split=4, min_samples_leaf=2, max_features=sqrt, max_depth=10 \n",
            "[CV]  n_estimators=1200, min_samples_split=4, min_samples_leaf=2, max_features=sqrt, max_depth=10, total=   4.4s\n",
            "[CV] n_estimators=500, min_samples_split=6, min_samples_leaf=1, max_features=sqrt, max_depth=30 \n",
            "[CV]  n_estimators=500, min_samples_split=6, min_samples_leaf=1, max_features=sqrt, max_depth=30, total=   2.2s\n",
            "[CV] n_estimators=500, min_samples_split=6, min_samples_leaf=1, max_features=sqrt, max_depth=30 \n",
            "[CV]  n_estimators=500, min_samples_split=6, min_samples_leaf=1, max_features=sqrt, max_depth=30, total=   2.1s\n",
            "[CV] n_estimators=500, min_samples_split=6, min_samples_leaf=1, max_features=sqrt, max_depth=30 \n",
            "[CV]  n_estimators=500, min_samples_split=6, min_samples_leaf=1, max_features=sqrt, max_depth=30, total=   2.2s\n",
            "[CV] n_estimators=500, min_samples_split=6, min_samples_leaf=1, max_features=sqrt, max_depth=30 \n",
            "[CV]  n_estimators=500, min_samples_split=6, min_samples_leaf=1, max_features=sqrt, max_depth=30, total=   2.2s\n",
            "[CV] n_estimators=500, min_samples_split=6, min_samples_leaf=1, max_features=sqrt, max_depth=30 \n",
            "[CV]  n_estimators=500, min_samples_split=6, min_samples_leaf=1, max_features=sqrt, max_depth=30, total=   2.1s\n",
            "[CV] n_estimators=100, min_samples_split=4, min_samples_leaf=1, max_features=auto, max_depth=10 \n",
            "[CV]  n_estimators=100, min_samples_split=4, min_samples_leaf=1, max_features=auto, max_depth=10, total=   0.9s\n",
            "[CV] n_estimators=100, min_samples_split=4, min_samples_leaf=1, max_features=auto, max_depth=10 \n",
            "[CV]  n_estimators=100, min_samples_split=4, min_samples_leaf=1, max_features=auto, max_depth=10, total=   0.9s\n",
            "[CV] n_estimators=100, min_samples_split=4, min_samples_leaf=1, max_features=auto, max_depth=10 \n",
            "[CV]  n_estimators=100, min_samples_split=4, min_samples_leaf=1, max_features=auto, max_depth=10, total=   0.9s\n",
            "[CV] n_estimators=100, min_samples_split=4, min_samples_leaf=1, max_features=auto, max_depth=10 \n",
            "[CV]  n_estimators=100, min_samples_split=4, min_samples_leaf=1, max_features=auto, max_depth=10, total=   0.9s\n",
            "[CV] n_estimators=100, min_samples_split=4, min_samples_leaf=1, max_features=auto, max_depth=10 \n",
            "[CV]  n_estimators=100, min_samples_split=4, min_samples_leaf=1, max_features=auto, max_depth=10, total=   0.9s\n",
            "[CV] n_estimators=1200, min_samples_split=2, min_samples_leaf=2, max_features=sqrt, max_depth=30 \n",
            "[CV]  n_estimators=1200, min_samples_split=2, min_samples_leaf=2, max_features=sqrt, max_depth=30, total=   5.0s\n",
            "[CV] n_estimators=1200, min_samples_split=2, min_samples_leaf=2, max_features=sqrt, max_depth=30 \n",
            "[CV]  n_estimators=1200, min_samples_split=2, min_samples_leaf=2, max_features=sqrt, max_depth=30, total=   4.9s\n",
            "[CV] n_estimators=1200, min_samples_split=2, min_samples_leaf=2, max_features=sqrt, max_depth=30 \n",
            "[CV]  n_estimators=1200, min_samples_split=2, min_samples_leaf=2, max_features=sqrt, max_depth=30, total=   4.9s\n",
            "[CV] n_estimators=1200, min_samples_split=2, min_samples_leaf=2, max_features=sqrt, max_depth=30 \n",
            "[CV]  n_estimators=1200, min_samples_split=2, min_samples_leaf=2, max_features=sqrt, max_depth=30, total=   4.9s\n",
            "[CV] n_estimators=1200, min_samples_split=2, min_samples_leaf=2, max_features=sqrt, max_depth=30 \n",
            "[CV]  n_estimators=1200, min_samples_split=2, min_samples_leaf=2, max_features=sqrt, max_depth=30, total=   4.9s\n",
            "[CV] n_estimators=200, min_samples_split=6, min_samples_leaf=2, max_features=sqrt, max_depth=30 \n",
            "[CV]  n_estimators=200, min_samples_split=6, min_samples_leaf=2, max_features=sqrt, max_depth=30, total=   0.9s\n",
            "[CV] n_estimators=200, min_samples_split=6, min_samples_leaf=2, max_features=sqrt, max_depth=30 \n",
            "[CV]  n_estimators=200, min_samples_split=6, min_samples_leaf=2, max_features=sqrt, max_depth=30, total=   0.9s\n",
            "[CV] n_estimators=200, min_samples_split=6, min_samples_leaf=2, max_features=sqrt, max_depth=30 \n",
            "[CV]  n_estimators=200, min_samples_split=6, min_samples_leaf=2, max_features=sqrt, max_depth=30, total=   0.9s\n",
            "[CV] n_estimators=200, min_samples_split=6, min_samples_leaf=2, max_features=sqrt, max_depth=30 \n",
            "[CV]  n_estimators=200, min_samples_split=6, min_samples_leaf=2, max_features=sqrt, max_depth=30, total=   0.9s\n",
            "[CV] n_estimators=200, min_samples_split=6, min_samples_leaf=2, max_features=sqrt, max_depth=30 \n",
            "[CV]  n_estimators=200, min_samples_split=6, min_samples_leaf=2, max_features=sqrt, max_depth=30, total=   0.9s\n",
            "[CV] n_estimators=100, min_samples_split=2, min_samples_leaf=4, max_features=auto, max_depth=5 \n",
            "[CV]  n_estimators=100, min_samples_split=2, min_samples_leaf=4, max_features=auto, max_depth=5, total=   0.5s\n",
            "[CV] n_estimators=100, min_samples_split=2, min_samples_leaf=4, max_features=auto, max_depth=5 \n",
            "[CV]  n_estimators=100, min_samples_split=2, min_samples_leaf=4, max_features=auto, max_depth=5, total=   0.5s\n",
            "[CV] n_estimators=100, min_samples_split=2, min_samples_leaf=4, max_features=auto, max_depth=5 \n",
            "[CV]  n_estimators=100, min_samples_split=2, min_samples_leaf=4, max_features=auto, max_depth=5, total=   0.5s\n",
            "[CV] n_estimators=100, min_samples_split=2, min_samples_leaf=4, max_features=auto, max_depth=5 \n",
            "[CV]  n_estimators=100, min_samples_split=2, min_samples_leaf=4, max_features=auto, max_depth=5, total=   0.5s\n",
            "[CV] n_estimators=100, min_samples_split=2, min_samples_leaf=4, max_features=auto, max_depth=5 \n",
            "[CV]  n_estimators=100, min_samples_split=2, min_samples_leaf=4, max_features=auto, max_depth=5, total=   0.5s\n",
            "[CV] n_estimators=100, min_samples_split=4, min_samples_leaf=2, max_features=auto, max_depth=20 \n",
            "[CV]  n_estimators=100, min_samples_split=4, min_samples_leaf=2, max_features=auto, max_depth=20, total=   1.0s\n",
            "[CV] n_estimators=100, min_samples_split=4, min_samples_leaf=2, max_features=auto, max_depth=20 \n",
            "[CV]  n_estimators=100, min_samples_split=4, min_samples_leaf=2, max_features=auto, max_depth=20, total=   1.0s\n",
            "[CV] n_estimators=100, min_samples_split=4, min_samples_leaf=2, max_features=auto, max_depth=20 \n",
            "[CV]  n_estimators=100, min_samples_split=4, min_samples_leaf=2, max_features=auto, max_depth=20, total=   0.9s\n",
            "[CV] n_estimators=100, min_samples_split=4, min_samples_leaf=2, max_features=auto, max_depth=20 \n",
            "[CV]  n_estimators=100, min_samples_split=4, min_samples_leaf=2, max_features=auto, max_depth=20, total=   1.0s\n",
            "[CV] n_estimators=100, min_samples_split=4, min_samples_leaf=2, max_features=auto, max_depth=20 \n",
            "[CV]  n_estimators=100, min_samples_split=4, min_samples_leaf=2, max_features=auto, max_depth=20, total=   1.0s\n",
            "[CV] n_estimators=1000, min_samples_split=2, min_samples_leaf=2, max_features=auto, max_depth=30 \n",
            "[CV]  n_estimators=1000, min_samples_split=2, min_samples_leaf=2, max_features=auto, max_depth=30, total=   8.3s\n",
            "[CV] n_estimators=1000, min_samples_split=2, min_samples_leaf=2, max_features=auto, max_depth=30 \n",
            "[CV]  n_estimators=1000, min_samples_split=2, min_samples_leaf=2, max_features=auto, max_depth=30, total=   8.3s\n",
            "[CV] n_estimators=1000, min_samples_split=2, min_samples_leaf=2, max_features=auto, max_depth=30 \n",
            "[CV]  n_estimators=1000, min_samples_split=2, min_samples_leaf=2, max_features=auto, max_depth=30, total=   8.2s\n",
            "[CV] n_estimators=1000, min_samples_split=2, min_samples_leaf=2, max_features=auto, max_depth=30 \n",
            "[CV]  n_estimators=1000, min_samples_split=2, min_samples_leaf=2, max_features=auto, max_depth=30, total=   8.4s\n",
            "[CV] n_estimators=1000, min_samples_split=2, min_samples_leaf=2, max_features=auto, max_depth=30 \n",
            "[CV]  n_estimators=1000, min_samples_split=2, min_samples_leaf=2, max_features=auto, max_depth=30, total=   8.3s\n",
            "[CV] n_estimators=200, min_samples_split=6, min_samples_leaf=1, max_features=sqrt, max_depth=10 \n",
            "[CV]  n_estimators=200, min_samples_split=6, min_samples_leaf=1, max_features=sqrt, max_depth=10, total=   0.8s\n",
            "[CV] n_estimators=200, min_samples_split=6, min_samples_leaf=1, max_features=sqrt, max_depth=10 \n",
            "[CV]  n_estimators=200, min_samples_split=6, min_samples_leaf=1, max_features=sqrt, max_depth=10, total=   0.8s\n",
            "[CV] n_estimators=200, min_samples_split=6, min_samples_leaf=1, max_features=sqrt, max_depth=10 \n",
            "[CV]  n_estimators=200, min_samples_split=6, min_samples_leaf=1, max_features=sqrt, max_depth=10, total=   0.8s\n",
            "[CV] n_estimators=200, min_samples_split=6, min_samples_leaf=1, max_features=sqrt, max_depth=10 \n",
            "[CV]  n_estimators=200, min_samples_split=6, min_samples_leaf=1, max_features=sqrt, max_depth=10, total=   0.8s\n",
            "[CV] n_estimators=200, min_samples_split=6, min_samples_leaf=1, max_features=sqrt, max_depth=10 \n",
            "[CV]  n_estimators=200, min_samples_split=6, min_samples_leaf=1, max_features=sqrt, max_depth=10, total=   0.8s\n",
            "[CV] n_estimators=10, min_samples_split=4, min_samples_leaf=1, max_features=auto, max_depth=30 \n",
            "[CV]  n_estimators=10, min_samples_split=4, min_samples_leaf=1, max_features=auto, max_depth=30, total=   0.2s\n",
            "[CV] n_estimators=10, min_samples_split=4, min_samples_leaf=1, max_features=auto, max_depth=30 \n",
            "[CV]  n_estimators=10, min_samples_split=4, min_samples_leaf=1, max_features=auto, max_depth=30, total=   0.2s\n",
            "[CV] n_estimators=10, min_samples_split=4, min_samples_leaf=1, max_features=auto, max_depth=30 \n",
            "[CV]  n_estimators=10, min_samples_split=4, min_samples_leaf=1, max_features=auto, max_depth=30, total=   0.2s\n",
            "[CV] n_estimators=10, min_samples_split=4, min_samples_leaf=1, max_features=auto, max_depth=30 \n",
            "[CV]  n_estimators=10, min_samples_split=4, min_samples_leaf=1, max_features=auto, max_depth=30, total=   0.2s\n",
            "[CV] n_estimators=10, min_samples_split=4, min_samples_leaf=1, max_features=auto, max_depth=30 \n",
            "[CV]  n_estimators=10, min_samples_split=4, min_samples_leaf=1, max_features=auto, max_depth=30, total=   0.2s\n"
          ],
          "name": "stdout"
        },
        {
          "output_type": "stream",
          "text": [
            "[Parallel(n_jobs=1)]: Done  50 out of  50 | elapsed:  2.0min finished\n"
          ],
          "name": "stderr"
        },
        {
          "output_type": "execute_result",
          "data": {
            "text/plain": [
              "RandomizedSearchCV(cv=5, error_score=nan,\n",
              "                   estimator=RandomForestRegressor(bootstrap=True,\n",
              "                                                   ccp_alpha=0.0,\n",
              "                                                   criterion='mse',\n",
              "                                                   max_depth=None,\n",
              "                                                   max_features='auto',\n",
              "                                                   max_leaf_nodes=None,\n",
              "                                                   max_samples=None,\n",
              "                                                   min_impurity_decrease=0.0,\n",
              "                                                   min_impurity_split=None,\n",
              "                                                   min_samples_leaf=1,\n",
              "                                                   min_samples_split=2,\n",
              "                                                   min_weight_fraction_leaf=0.0,\n",
              "                                                   n_estimators=100, n_jobs=-1,\n",
              "                                                   oob_score=False,\n",
              "                                                   random_state=None, verbose=0,\n",
              "                                                   warm_start=False),\n",
              "                   iid='deprecated', n_iter=10, n_jobs=None,\n",
              "                   param_distributions={'max_depth': [None, 5, 10, 20, 30],\n",
              "                                        'max_features': ['auto', 'sqrt'],\n",
              "                                        'min_samples_leaf': [1, 2, 4],\n",
              "                                        'min_samples_split': [2, 4, 6],\n",
              "                                        'n_estimators': [10, 100, 200, 500,\n",
              "                                                         1000, 1200]},\n",
              "                   pre_dispatch='2*n_jobs', random_state=None, refit=True,\n",
              "                   return_train_score=False, scoring=None, verbose=2)"
            ]
          },
          "metadata": {
            "tags": []
          },
          "execution_count": 79
        }
      ]
    },
    {
      "cell_type": "code",
      "metadata": {
        "id": "bCtX_j8xKW04",
        "colab": {
          "base_uri": "https://localhost:8080/"
        },
        "outputId": "4052e002-dbf0-4a5d-a2b4-146227e82c9e"
      },
      "source": [
        "rs_model.best_params_"
      ],
      "execution_count": null,
      "outputs": [
        {
          "output_type": "execute_result",
          "data": {
            "text/plain": [
              "{'max_depth': 30,\n",
              " 'max_features': 'sqrt',\n",
              " 'min_samples_leaf': 1,\n",
              " 'min_samples_split': 6,\n",
              " 'n_estimators': 500}"
            ]
          },
          "metadata": {
            "tags": []
          },
          "execution_count": 80
        }
      ]
    },
    {
      "cell_type": "code",
      "metadata": {
        "id": "s4RwOPM6ia_m"
      },
      "source": [
        "rs_y_preds = rs_model.predict(X_val)"
      ],
      "execution_count": null,
      "outputs": []
    },
    {
      "cell_type": "code",
      "metadata": {
        "colab": {
          "base_uri": "https://localhost:8080/"
        },
        "id": "0BOZVgQ0jZQv",
        "outputId": "7b7ff0f8-7bbb-4066-b842-59355cb3bd91"
      },
      "source": [
        "rs_metrics = evaluation_metrics(y_val, rs_y_preds)"
      ],
      "execution_count": null,
      "outputs": [
        {
          "output_type": "stream",
          "text": [
            "R2_score: 95.16%\n",
            "MAE: 2.46\n",
            "MSE: 9.35\n"
          ],
          "name": "stdout"
        }
      ]
    },
    {
      "cell_type": "code",
      "metadata": {
        "colab": {
          "base_uri": "https://localhost:8080/"
        },
        "id": "iHL8hHdCjkVf",
        "outputId": "2d2d393e-8e75-4129-c39b-a2be67f4e871"
      },
      "source": [
        "rs_test_preds = rs_model.predict(X_test)\n",
        "\n",
        "rs_test_metrics = evaluation_metrics(y_test, rs_test_preds)"
      ],
      "execution_count": null,
      "outputs": [
        {
          "output_type": "stream",
          "text": [
            "R2_score: 95.37%\n",
            "MAE: 2.33\n",
            "MSE: 9.02\n"
          ],
          "name": "stdout"
        }
      ]
    },
    {
      "cell_type": "code",
      "metadata": {
        "id": "0X6GrpL0j0uG"
      },
      "source": [
        ""
      ],
      "execution_count": null,
      "outputs": []
    }
  ]
}